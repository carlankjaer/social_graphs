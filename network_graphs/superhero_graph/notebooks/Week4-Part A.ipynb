{
 "cells": [
  {
   "cell_type": "markdown",
   "id": "20ca7aec",
   "metadata": {},
   "source": [
    "**Prelude, Regular expresions**"
   ]
  },
  {
   "cell_type": "code",
   "execution_count": 4,
   "id": "5831fe84",
   "metadata": {},
   "outputs": [],
   "source": [
    "import re\n",
    "import numpy as np\n",
    "import pandas as pd"
   ]
  },
  {
   "cell_type": "code",
   "execution_count": 5,
   "id": "44699743",
   "metadata": {},
   "outputs": [
    {
     "name": "stdout",
     "output_type": "stream",
     "text": [
      "Found 4 digits, 3 times: ['1234', '9999', '2345']\n"
     ]
    }
   ],
   "source": [
    "f = open('regex_exercise.txt', 'r')\n",
    "digits4 = re.findall(r'\\d{4}', f.read(), re.IGNORECASE)\n",
    "x=len(digits4)\n",
    "\n",
    "if digits4:\n",
    "    print(f'Found 4 digits, {x} times:', digits4)\n",
    "else:\n",
    "    print('Nop ')"
   ]
  },
  {
   "cell_type": "code",
   "execution_count": 6,
   "id": "1474d06a",
   "metadata": {},
   "outputs": [
    {
     "name": "stdout",
     "output_type": "stream",
     "text": [
      "match: \n",
      "superpolaroid\n",
      "supertaxidermy\n",
      "superbeer\n"
     ]
    }
   ],
   "source": [
    "f = open('regex_exercise.txt', 'r')\n",
    "match = re.findall(r'\\w*super\\w*', f.read(), re.IGNORECASE)\n",
    "\n",
    "if match:\n",
    "    print('match: ')\n",
    "    for word in match:\n",
    "         print(word)\n",
    "else:\n",
    "    print('Nop')"
   ]
  },
  {
   "cell_type": "code",
   "execution_count": 7,
   "id": "095148d9",
   "metadata": {},
   "outputs": [
    {
     "name": "stdout",
     "output_type": "stream",
     "text": [
      "match: \n",
      "[[drinking vinegar]]\n",
      "[[gentrify]]\n",
      "[[hashtag]]\n",
      "[[Bicycle|Bicycle(two-wheeled type)]]\n",
      "[[Pitchfork|Pitchfork Magazine]]\n"
     ]
    }
   ],
   "source": [
    "f = open('regex_exercise.txt', 'r')\n",
    "match = re.findall(r'\\[\\[.+?\\]\\]', f.read(), re.IGNORECASE)\n",
    "\n",
    "if match:\n",
    "    print('match: ')\n",
    "    for word in match:\n",
    "         print(word)\n",
    "else:\n",
    "    print('Nop')"
   ]
  }
 ],
 "metadata": {
  "kernelspec": {
   "display_name": "Python 3 (ipykernel)",
   "language": "python",
   "name": "python3"
  },
  "language_info": {
   "codemirror_mode": {
    "name": "ipython",
    "version": 3
   },
   "file_extension": ".py",
   "mimetype": "text/x-python",
   "name": "python",
   "nbconvert_exporter": "python",
   "pygments_lexer": "ipython3",
   "version": "3.7.13"
  }
 },
 "nbformat": 4,
 "nbformat_minor": 5
}
